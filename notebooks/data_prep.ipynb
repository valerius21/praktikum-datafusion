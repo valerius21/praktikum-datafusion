{
 "cells": [
  {
   "cell_type": "code",
   "execution_count": 1,
   "metadata": {
    "collapsed": false,
    "jupyter": {
     "outputs_hidden": false
    },
    "pycharm": {
     "name": "#%%\n"
    }
   },
   "outputs": [],
   "source": [
    "# imports\n",
    "import glob\n",
    "from pprint import pprint\n",
    "\n",
    "import numpy as np\n",
    "import matplotlib.pyplot as plt\n",
    "\n",
    "from pyquaternion import Quaternion\n",
    "from nuscenes.nuscenes import NuScenes\n",
    "from nuscenes.utils.geometry_utils import transform_matrix\n",
    "from nuscenes.utils.data_classes import RadarPointCloud"
   ]
  },
  {
   "cell_type": "code",
   "execution_count": 2,
   "metadata": {
    "collapsed": false,
    "jupyter": {
     "outputs_hidden": false
    },
    "pycharm": {
     "name": "#%%\n"
    }
   },
   "outputs": [
    {
     "name": "stdout",
     "output_type": "stream",
     "text": [
      "======\n",
      "Loading NuScenes tables for version v1.0-mini...\n",
      "23 category,\n",
      "8 attribute,\n",
      "4 visibility,\n",
      "911 instance,\n",
      "12 sensor,\n",
      "120 calibrated_sensor,\n",
      "31206 ego_pose,\n",
      "8 log,\n",
      "10 scene,\n",
      "404 sample,\n",
      "31206 sample_data,\n",
      "18538 sample_annotation,\n",
      "4 map,\n",
      "Done loading in 0.508 seconds.\n",
      "======\n",
      "Reverse indexing ...\n",
      "Done reverse indexing in 0.1 seconds.\n",
      "======\n"
     ]
    }
   ],
   "source": [
    "# basic config and variables\n",
    "_VERSION = 'v1.0-mini'\n",
    "_DATAROOT = '/home/jovyan/praktikum-datafusion/data'\n",
    "\n",
    "nusc = NuScenes(version=_VERSION, dataroot=_DATAROOT, verbose=True)"
   ]
  },
  {
   "cell_type": "code",
   "execution_count": 3,
   "metadata": {
    "collapsed": false,
    "jupyter": {
     "outputs_hidden": false
    },
    "pycharm": {
     "name": "#%%\n"
    }
   },
   "outputs": [],
   "source": [
    "# get all the point cloud files\n",
    "\n",
    "def get_all_radar_file_paths() -> list:\n",
    "    \"\"\"get the absolute file paths for all radar sample binaries.\"\"\"\n",
    "    return glob.glob(f'{_DATAROOT}/samples/RADAR_*/*.pcd')\n",
    "\n",
    "\n",
    "# determine the first listed radar file as testfile\n",
    "test_pcd_file = get_all_radar_file_paths()[0]"
   ]
  },
  {
   "cell_type": "code",
   "execution_count": 4,
   "metadata": {
    "collapsed": false,
    "jupyter": {
     "outputs_hidden": false
    },
    "pycharm": {
     "name": "#%%\n"
    }
   },
   "outputs": [
    {
     "name": "stdout",
     "output_type": "stream",
     "text": [
      "{'file': '/home/jovyan/praktikum-datafusion/data/samples/RADAR_FRONT_LEFT/n008-2018-08-30-15-16-55-0400__RADAR_FRONT_LEFT__1535657112652791.pcd',\n",
      " 'radar_point_cloud': <nuscenes.utils.data_classes.RadarPointCloud object at 0x7fdf34e281c0>,\n",
      " 'v_comp': array([0.06058678, 0.00131722, 0.18726687, 0.00372698, 0.00440891,\n",
      "       0.10485904, 0.09731367, 0.08306185]),\n",
      " 'vx_comp': array([ 0.05695982, -0.00129671,  0.10772915,  0.00253038, -0.00362606,\n",
      "        0.08181776,  0.06581847, -0.08104935]),\n",
      " 'vy_comp': array([-0.02064793,  0.00023156,  0.15317738, -0.00273634, -0.00250802,\n",
      "        0.06558408,  0.07167901,  0.01817344]),\n",
      " 'x': array([ 8.        ,  8.39999962,  6.4000001 ,  8.60000038, 12.        ,\n",
      "       12.60000038, 14.60000038, 38.79999924]),\n",
      " 'y': array([-2.9000001 , -1.5       ,  9.10000038, -9.30000019,  8.30000019,\n",
      "       10.10000038, 15.89999962, -8.69999981])}\n"
     ]
    }
   ],
   "source": [
    "def get_pcd_data(nusc_filepath: str):\n",
    "    radar_point_cloud = RadarPointCloud.from_file(nusc_filepath)\n",
    "    points =  radar_point_cloud.points\n",
    "    x = points[0]\n",
    "    y = points[1]\n",
    "    vx_comp = points[8]\n",
    "    vy_comp = points[9]\n",
    "\n",
    "    return {\n",
    "        'file': nusc_filepath,\n",
    "        'x': x,\n",
    "        'y': y,\n",
    "        'vx_comp': vx_comp,\n",
    "        'vy_comp': vy_comp,\n",
    "        'v_comp': (vx_comp ** 2 + vy_comp ** 2) ** 0.5,\n",
    "        'radar_point_cloud': radar_point_cloud\n",
    "    }\n",
    "\n",
    "\n",
    "result = get_pcd_data(test_pcd_file)\n",
    "pprint(result)"
   ]
  },
  {
   "cell_type": "code",
   "execution_count": 5,
   "metadata": {
    "collapsed": false,
    "jupyter": {
     "outputs_hidden": false
    },
    "pycharm": {
     "name": "#%%\n"
    }
   },
   "outputs": [
    {
     "data": {
      "text/plain": [
       "{'token': 'cc8c0bf57f984915a77078b10eb33198',\n",
       " 'log_token': '7e25a2c8ea1f41c5b0da1e69ecfa71a2',\n",
       " 'nbr_samples': 39,\n",
       " 'first_sample_token': 'ca9a282c9e77460f8360f564131a8af5',\n",
       " 'last_sample_token': 'ed5fc18c31904f96a8f0dbb99ff069c0',\n",
       " 'name': 'scene-0061',\n",
       " 'description': 'Parked truck, construction, intersection, turn left, following a van'}"
      ]
     },
     "execution_count": 5,
     "metadata": {},
     "output_type": "execute_result"
    }
   ],
   "source": [
    "# help(RadarPointCloud)\n",
    "\n",
    "# nusc.sample_data[0]\n",
    "\n",
    "# nusc.get('sample', '39586f9d59004284a7114a68825e8eec')\n",
    "\n",
    "sc = nusc.scene[0]\n",
    "\n",
    "sc"
   ]
  },
  {
   "cell_type": "code",
   "execution_count": 6,
   "metadata": {
    "collapsed": false,
    "jupyter": {
     "outputs_hidden": false
    },
    "pycharm": {
     "name": "#%%\n"
    }
   },
   "outputs": [],
   "source": [
    "# extract samples\n",
    "\n",
    "\n",
    "def extract_samples_from_scene(scene: dict):\n",
    "    \"\"\"extract all the samples related to the given scene.\"\"\"\n",
    "    first_sample_token = scene['first_sample_token']\n",
    "    last_sample_token = scene['last_sample_token']\n",
    "    samples = list()\n",
    "\n",
    "    fst = nusc.get('sample', first_sample_token)\n",
    "    next_token = fst['next']\n",
    "    while True:\n",
    "        current = nusc.get('sample', next_token)\n",
    "        samples.append(current)\n",
    "        next_token = current['next']\n",
    "        if next_token == last_sample_token:\n",
    "            return samples\n",
    "    # return first_sample_token, last_sample_token, scene\n",
    "\n",
    "samples_from_scene = extract_samples_from_scene(sc)\n",
    "\n",
    "def extract_channel_from_file(channel: str):\n",
    "    filename = nusc.get('sample_data', channel)['filename']\n",
    "    filename = f'{_DATAROOT}/{filename}'\n",
    "    return get_pcd_data(filename)\n",
    "\n",
    "def convert_binary_data_to_coordinates_and_velocity(sample: dict):\n",
    "    data = sample['data']\n",
    "    return {\n",
    "     'RADAR_FRONT' : extract_channel_from_file(data['RADAR_FRONT']),\n",
    "     'RADAR_FRONT_LEFT' : extract_channel_from_file(data['RADAR_FRONT_LEFT']),\n",
    "     'RADAR_FRONT_RIGHT' : extract_channel_from_file(data['RADAR_FRONT_RIGHT']),\n",
    "     'RADAR_BACK_LEFT' : extract_channel_from_file(data['RADAR_BACK_LEFT']),\n",
    "     'RADAR_BACK_RIGHT' : extract_channel_from_file(data['RADAR_BACK_RIGHT']),\n",
    "     'data': data\n",
    "    }\n",
    "\n",
    "scene_in_sample_data = [convert_binary_data_to_coordinates_and_velocity(sc) for sc in samples_from_scene]"
   ]
  },
  {
   "cell_type": "code",
   "execution_count": 7,
   "metadata": {
    "collapsed": false,
    "jupyter": {
     "outputs_hidden": false
    },
    "pycharm": {
     "name": "#%%\n"
    }
   },
   "outputs": [
    {
     "data": {
      "text/plain": [
       "[(409.7431520488096, 1176.6769733781416),\n",
       " (408.101879146712, 1172.1515777892457),\n",
       " (406.7260055966978, 1168.2112865775816),\n",
       " (405.40940618082874, 1164.3542269452469),\n",
       " (404.27766613575534, 1161.0501064609266),\n",
       " (403.1147868052399, 1157.5179992427084),\n",
       " (401.882035855894, 1153.723115401486),\n",
       " (400.84139513617623, 1150.4041654308548),\n",
       " (399.84353161665877, 1147.1735328106026),\n",
       " (399.0198373002425, 1144.398545717494),\n",
       " (398.16712901294835, 1141.370496193884),\n",
       " (397.4476741975414, 1138.4704918742955),\n",
       " (396.8835035523236, 1135.6564273770866),\n",
       " (396.4443552268204, 1132.6271305081405),\n",
       " (396.28709579417813, 1130.0546235114005),\n",
       " (396.3721334319953, 1127.5762883014086),\n",
       " (396.6816902790987, 1125.2563692026397),\n",
       " (397.1853086632334, 1123.0598472868774),\n",
       " (397.8606615606245, 1121.0773884177784),\n",
       " (398.7597041521511, 1119.1284635254908),\n",
       " (399.9076584877769, 1117.2088940698718),\n",
       " (401.0653931407355, 1115.6784191807697),\n",
       " (402.47435861332616, 1114.1490807505795),\n",
       " (404.11369592844784, 1112.6762567308072),\n",
       " (405.59378952934526, 1111.5587954693658),\n",
       " (407.23526472142686, 1110.4950559603324),\n",
       " (408.52944568127737, 1109.7538669797307),\n",
       " (409.73572041073385, 1109.1231579309517),\n",
       " (410.6650822157686, 1108.6719861046136),\n",
       " (411.779300464498, 1108.1419443525465),\n",
       " (412.8489179352234, 1107.6401473937494),\n",
       " (413.9024439761932, 1107.148159570898),\n",
       " (414.9639051557455, 1106.6522960506688),\n",
       " (415.9850022275284, 1106.1821496591247),\n",
       " (417.02167488599355, 1105.7223623879136),\n",
       " (418.1647075938728, 1105.2716555063062),\n",
       " (419.5269830911931, 1104.8312849413196)]"
      ]
     },
     "execution_count": 7,
     "metadata": {},
     "output_type": "execute_result"
    }
   ],
   "source": [
    "# sc\n",
    "def get_ego_pose_from_timestamp(timestamp: int) -> dict:\n",
    "    return [s for s  in nusc.ego_pose if s['timestamp'] == timestamp][0]\n",
    "\n",
    "ego_poses_from_scene = [get_ego_pose_from_timestamp(s['timestamp']) for s in extract_samples_from_scene(sc)]\n",
    "\n",
    "coordinates_from_scene = [(c[0],c[1]) for c in [s['translation'] for s in ego_poses_from_scene]]\n",
    "\n",
    "coordinates_from_scene"
   ]
  },
  {
   "cell_type": "code",
   "execution_count": 8,
   "metadata": {
    "collapsed": false,
    "jupyter": {
     "outputs_hidden": false
    },
    "pycharm": {
     "name": "#%%\n"
    }
   },
   "outputs": [],
   "source": [
    "# lt = sc['log_token']\n",
    "\n",
    "# mt = nusc.get('log', lt)['map_token']\n",
    "\n",
    "# mapfile = f\"{_DATAROOT}/{nusc.get('map',mt)['filename']}\"\n",
    "\n",
    "# im = plt.imread(mapfile)\n",
    "# implot = plt.imshow(im)\n",
    "\n",
    "# map_x = np.array([c[0] for c in coordinates_from_scene])\n",
    "# map_y = np.array([c[1] for c in coordinates_from_scene])\n",
    "# plt.scatter(x=map_x, y=map_y, c=\"r\")\n",
    "\n",
    "# plt.show()"
   ]
  },
  {
   "cell_type": "code",
   "execution_count": 9,
   "metadata": {
    "collapsed": false,
    "jupyter": {
     "outputs_hidden": false
    },
    "pycharm": {
     "name": "#%%\n"
    }
   },
   "outputs": [],
   "source": [
    "raw_data = [{\n",
    "    'translation': np.array(s['translation']),\n",
    "    'rotation': Quaternion(s['rotation']),\n",
    "    } for s in ego_poses_from_scene]\n",
    "\n",
    "trans = [transform_matrix(e['translation'], e['rotation']) for e in raw_data]\n",
    "\n",
    "\n",
    "\n",
    "new_arr = np.array([[c[0], c[1], 0.0, 0.0] for c in coordinates_from_scene])\n",
    "\n",
    "# trans @ np.reshape(map_x, (37,1))"
   ]
  },
  {
   "cell_type": "code",
   "execution_count": 10,
   "metadata": {
    "collapsed": false,
    "jupyter": {
     "outputs_hidden": false
    },
    "pycharm": {
     "name": "#%%\n"
    }
   },
   "outputs": [
    {
     "data": {
      "text/plain": [
       "[{'token': '47fcd48f71d75e0da5c8c1704a9bfe0a',\n",
       "  'channel': 'RADAR_FRONT',\n",
       "  'modality': 'radar'},\n",
       " {'token': '232a6c4dc628532e81de1c57120876e9',\n",
       "  'channel': 'RADAR_FRONT_RIGHT',\n",
       "  'modality': 'radar'},\n",
       " {'token': '1f69f87a4e175e5ba1d03e2e6d9bcd27',\n",
       "  'channel': 'RADAR_FRONT_LEFT',\n",
       "  'modality': 'radar'},\n",
       " {'token': 'df2d5b8be7be55cca33c8c92384f2266',\n",
       "  'channel': 'RADAR_BACK_LEFT',\n",
       "  'modality': 'radar'},\n",
       " {'token': '5c29dee2f70b528a817110173c2e71b9',\n",
       "  'channel': 'RADAR_BACK_RIGHT',\n",
       "  'modality': 'radar'}]"
      ]
     },
     "execution_count": 10,
     "metadata": {},
     "output_type": "execute_result"
    }
   ],
   "source": [
    "sensors = filter(lambda s: s['modality'] == 'radar', nusc.sensor)\n",
    "\n",
    "RADAR_CHANNELS = {\n",
    "        'RADAR_FRONT': list(filter(lambda s: s['channel'] == 'RADAR_FRONT', nusc.sensor)),\n",
    "        'RADAR_FRONT_LEFT': list(filter(lambda s: s['channel'] == 'RADAR_FRONT_LEFT', nusc.sensor)),\n",
    "        'RADAR_FRONT_RIGHT': list(filter(lambda s: s['channel'] == 'RADAR_FRONT_RIGHT', nusc.sensor)),\n",
    "        'RADAR_BACK_LEFT': list(filter(lambda s: s['channel'] == 'RADAR_BACK_LEFT', nusc.sensor)),\n",
    "        'RADAR_BACK_RIGHT': list(filter(lambda s: s['channel'] == 'RADAR_BACK_RIGHT', nusc.sensor)),\n",
    "}\n",
    "\n",
    "list(sensors)"
   ]
  },
  {
   "cell_type": "code",
   "execution_count": 59,
   "metadata": {
    "collapsed": false,
    "jupyter": {
     "outputs_hidden": false
    },
    "pycharm": {
     "name": "#%%\n"
    }
   },
   "outputs": [
    {
     "name": "stderr",
     "output_type": "stream",
     "text": [
      "/opt/conda/lib/python3.8/site-packages/numpy/core/_asarray.py:83: VisibleDeprecationWarning: Creating an ndarray from ragged nested sequences (which is a list-or-tuple of lists-or-tuples-or ndarrays with different lengths or shapes) is deprecated. If you meant to do this, you must specify 'dtype=object' when creating the ndarray\n",
      "  return array(a, dtype, copy=False, order=order)\n"
     ]
    }
   ],
   "source": [
    "def new_method():\n",
    "    \"\"\"makes a biggo matrix containing all infos about 2 a).\"\"\"\n",
    "    channels = [\n",
    "        'RADAR_FRONT',\n",
    "        'RADAR_FRONT_LEFT',\n",
    "        'RADAR_FRONT_RIGHT',\n",
    "        'RADAR_BACK_LEFT',\n",
    "        'RADAR_BACK_RIGHT',\n",
    "    ]\n",
    "    samples = scene_in_sample_data\n",
    "    scene_points = list()\n",
    "    for sample in samples:\n",
    "        x, y, z, vx_comp, vy_comp, pointclouds = list(), list(), list() ,list() ,list(), list()\n",
    "        for channel in channels:\n",
    "            pc = sample[channel]['radar_point_cloud']\n",
    "            radar_token = sample['data'][channel]\n",
    "            current_radar = nusc.get('sample_data', radar_token)\n",
    "            ego_pose = nusc.get('ego_pose', current_radar['ego_pose_token'])\n",
    "            calibrated_sensor = nusc.get('calibrated_sensor', current_radar['calibrated_sensor_token'])\n",
    "            sensor_to_car = transform_matrix(calibrated_sensor['translation'], Quaternion(calibrated_sensor['rotation'], inverse=False))\n",
    "            car_to_world = transform_matrix(ego_pose['translation'], Quaternion(ego_pose['rotation'], inverse=False))\n",
    "\n",
    "            sensor_to_world = np.dot(car_to_world, sensor_to_car)\n",
    "\n",
    "            pc.transform(sensor_to_world)\n",
    "\n",
    "            pointclouds.append(pc)\n",
    "\n",
    "            # combine radar\n",
    "            for i in range(pc.points.shape[1]):\n",
    "                x.append(pc.points[0][i])\n",
    "                y.append(pc.points[1][i])\n",
    "                z.append(pc.points[2][i]) # redundant?\n",
    "                vx_comp.append(pc.points[7][i])\n",
    "                vy_comp.append(pc.points[8][i])\n",
    "        scene_points.append([\n",
    "            np.asarray(x),\n",
    "            np.asarray(y),\n",
    "            np.asarray(z),\n",
    "            np.asarray(vx_comp),\n",
    "            np.asarray(vy_comp),\n",
    "            np.asarray(pointclouds)\n",
    "        ])\n",
    "\n",
    "    return np.asarray(scene_points)\n",
    "\n",
    "\n",
    "result = new_method()"
   ]
  },
  {
   "cell_type": "code",
   "execution_count": 61,
   "metadata": {},
   "outputs": [
    {
     "data": {
      "text/plain": [
       "(37, 6)"
      ]
     },
     "execution_count": 61,
     "metadata": {},
     "output_type": "execute_result"
    }
   ],
   "source": [
    "np.shape(result)"
   ]
  },
  {
   "cell_type": "code",
   "execution_count": 77,
   "metadata": {},
   "outputs": [
    {
     "data": {
      "text/plain": [
       "(37,)"
      ]
     },
     "execution_count": 77,
     "metadata": {},
     "output_type": "execute_result"
    }
   ],
   "source": []
  },
  {
   "cell_type": "code",
   "execution_count": null,
   "metadata": {},
   "outputs": [],
   "source": []
  },
  {
   "cell_type": "code",
   "execution_count": null,
   "metadata": {},
   "outputs": [],
   "source": []
  },
  {
   "cell_type": "code",
   "execution_count": 81,
   "metadata": {},
   "outputs": [
    {
     "data": {
      "text/plain": [
       "[1, 2, 3, 4]"
      ]
     },
     "execution_count": 81,
     "metadata": {},
     "output_type": "execute_result"
    }
   ],
   "source": [
    "[1,2] + list(np.array([3,4]))"
   ]
  },
  {
   "cell_type": "code",
   "execution_count": 82,
   "metadata": {},
   "outputs": [
    {
     "data": {
      "image/png": "[encoded data removed]",
      "text/plain": [
       "<Figure size 432x288 with 1 Axes>"
      ]
     },
     "metadata": {
      "needs_background": "light"
     },
     "output_type": "display_data"
    }
   ],
   "source": [
    "ys = list()\n",
    "xs = list()\n",
    "\n",
    "for row in result:\n",
    "    x, y = row[0], row[1]\n",
    "    xs += list(x)\n",
    "    ys += list(y)\n",
    "\n",
    "\n",
    "\n",
    "plt.scatter(x=xs, y=ys)\n",
    "plt.show()"
   ]
  },
  {
   "cell_type": "code",
   "execution_count": null,
   "metadata": {},
   "outputs": [],
   "source": []
  },
  {
   "cell_type": "code",
   "execution_count": null,
   "metadata": {},
   "outputs": [],
   "source": []
  },
  {
   "cell_type": "code",
   "execution_count": null,
   "metadata": {},
   "outputs": [],
   "source": []
  },
  {
   "cell_type": "code",
   "execution_count": null,
   "metadata": {},
   "outputs": [],
   "source": []
  },
  {
   "cell_type": "code",
   "execution_count": null,
   "metadata": {},
   "outputs": [],
   "source": []
  },
  {
   "cell_type": "code",
   "execution_count": null,
   "metadata": {},
   "outputs": [],
   "source": []
  },
  {
   "cell_type": "code",
   "execution_count": null,
   "metadata": {},
   "outputs": [],
   "source": []
  },
  {
   "cell_type": "code",
   "execution_count": null,
   "metadata": {},
   "outputs": [],
   "source": []
  },
  {
   "cell_type": "code",
   "execution_count": null,
   "metadata": {},
   "outputs": [],
   "source": []
  },
  {
   "cell_type": "code",
   "execution_count": null,
   "metadata": {
    "collapsed": false,
    "jupyter": {
     "outputs_hidden": false
    },
    "pycharm": {
     "name": "#%%\n"
    }
   },
   "outputs": [],
   "source": []
  }
 ],
 "metadata": {
  "kernelspec": {
   "display_name": "Python 3",
   "language": "python",
   "name": "python3"
  },
  "language_info": {
   "codemirror_mode": {
    "name": "ipython",
    "version": 3
   },
   "file_extension": ".py",
   "mimetype": "text/x-python",
   "name": "python",
   "nbconvert_exporter": "python",
   "pygments_lexer": "ipython3",
   "version": "3.8.8"
  }
 },
 "nbformat": 4,
 "nbformat_minor": 4
}
