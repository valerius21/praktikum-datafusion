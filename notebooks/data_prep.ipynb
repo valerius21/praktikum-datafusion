{
 "cells": [
  {
   "cell_type": "code",
   "execution_count": 37,
   "outputs": [],
   "source": [
    "# imports\n",
    "import glob\n",
    "from pprint import pprint\n",
    "\n",
    "import numpy as np\n",
    "import matplotlib.pyplot as plt\n",
    "\n",
    "from pyquaternion import Quaternion\n",
    "from nuscenes.nuscenes import NuScenes\n",
    "from nuscenes.utils.geometry_utils import transform_matrix\n",
    "from nuscenes.utils.data_classes import RadarPointCloud"
   ],
   "metadata": {
    "collapsed": false,
    "pycharm": {
     "name": "#%%\n"
    }
   }
  },
  {
   "cell_type": "code",
   "execution_count": 38,
   "outputs": [
    {
     "name": "stdout",
     "output_type": "stream",
     "text": [
      "======\n",
      "Loading NuScenes tables for version v1.0-mini...\n",
      "23 category,\n",
      "8 attribute,\n",
      "4 visibility,\n",
      "911 instance,\n",
      "12 sensor,\n",
      "120 calibrated_sensor,\n",
      "31206 ego_pose,\n",
      "8 log,\n",
      "10 scene,\n",
      "404 sample,\n",
      "31206 sample_data,\n",
      "18538 sample_annotation,\n",
      "4 map,\n",
      "Done loading in 0.405 seconds.\n",
      "======\n",
      "Reverse indexing ...\n",
      "Done reverse indexing in 0.1 seconds.\n",
      "======\n"
     ]
    }
   ],
   "source": [
    "# basic config and variables\n",
    "_VERSION = 'v1.0-mini'\n",
    "_DATAROOT = '/home/valerius/data/sets/nuscenes'\n",
    "\n",
    "nusc = NuScenes(version=_VERSION, dataroot=_DATAROOT, verbose=True)"
   ],
   "metadata": {
    "collapsed": false,
    "pycharm": {
     "name": "#%%\n"
    }
   }
  },
  {
   "cell_type": "code",
   "execution_count": 39,
   "outputs": [],
   "source": [
    "# get all the point cloud files\n",
    "\n",
    "def get_all_radar_file_paths() -> list:\n",
    "    \"\"\"get the absolute file paths for all radar sample binaries.\"\"\"\n",
    "    return glob.glob(f'{_DATAROOT}/samples/RADAR_*/*.pcd')\n",
    "\n",
    "# determine the first listed radar file as testfile\n",
    "test_pcd_file = get_all_radar_file_paths()[0]"
   ],
   "metadata": {
    "collapsed": false,
    "pycharm": {
     "name": "#%%\n"
    }
   }
  },
  {
   "cell_type": "code",
   "execution_count": 40,
   "outputs": [
    {
     "name": "stdout",
     "output_type": "stream",
     "text": [
      "{'file': '/home/valerius/data/sets/nuscenes/samples/RADAR_FRONT_LEFT/n008-2018-08-01-15-16-36-0400__RADAR_FRONT_LEFT__1533151616430028.pcd',\n",
      " 'v_comp': array([4.78422981e-02, 2.27983813e-03, 7.43984423e-02, 6.49649119e-02,\n",
      "       1.07033265e-01, 9.34026103e-03, 6.85211698e-02, 1.66588552e-02,\n",
      "       9.98121273e-02, 1.54160111e-01, 1.05406475e-01, 7.37046146e-02,\n",
      "       4.43869586e-02, 1.36809555e-01, 2.74166566e-02, 8.40879019e-02,\n",
      "       2.02974639e-02, 9.19832648e-02, 1.20565177e-02, 7.55414863e-02,\n",
      "       9.80957729e-03, 4.48503813e-04, 1.49008865e-01, 3.77898153e-02,\n",
      "       2.25152199e-01, 1.77112591e-02, 1.83527954e-01, 1.93922913e-01,\n",
      "       1.74272602e-01, 6.69303557e-02, 1.85249329e-03, 1.69586504e-02,\n",
      "       6.50596619e-03, 4.95672761e-03, 5.51046667e-02, 2.65684329e-02,\n",
      "       4.51780948e-02, 4.56685834e-02, 7.39721326e-02, 1.28001131e-01,\n",
      "       4.72043826e-02, 6.43596876e-03, 1.30029716e+00, 1.25103778e+00,\n",
      "       6.20066115e-03, 1.18612408e+00, 7.88750297e-02, 6.36742760e-02,\n",
      "       6.49558843e-02, 1.11706053e+00, 4.73364938e-02, 3.91285837e-02,\n",
      "       2.97039554e-02, 2.44427895e-02]),\n",
      " 'vx_comp': array([-4.27914523e-02, -1.29697344e-03,  7.06245750e-02, -4.94611636e-02,\n",
      "       -8.28124359e-02, -7.49712484e-03,  6.51877075e-02,  1.55461654e-02,\n",
      "        9.94605273e-02, -9.30767655e-02,  6.40824139e-02, -3.91471162e-02,\n",
      "       -2.33916286e-02,  1.24339446e-01, -2.55031269e-02,  8.40716511e-02,\n",
      "       -2.02806983e-02,  8.76342580e-02, -1.15776192e-02,  7.28874505e-02,\n",
      "       -9.77107696e-03,  4.46824211e-04,  1.44315317e-01, -3.66992541e-02,\n",
      "        2.24211752e-01,  1.75553299e-02,  1.78048268e-01,  1.92998856e-01,\n",
      "        1.73374251e-01, -6.49067312e-02, -1.80209614e-03, -1.64856017e-02,\n",
      "        6.33142842e-03,  4.82340576e-03,  5.37445247e-02,  2.58794762e-02,\n",
      "        4.40435037e-02,  4.45226505e-02,  7.22061172e-02,  1.25232294e-01,\n",
      "        4.70772907e-02, -6.37513166e-03,  1.29001558e+00,  1.24267566e+00,\n",
      "        6.14417112e-03,  1.17991710e+00,  7.83021227e-02,  6.31882772e-02,\n",
      "        6.44621477e-02,  1.11223829e+00,  4.69151661e-02,  3.87712903e-02,\n",
      "        2.94247493e-02,  2.42093336e-02]),\n",
      " 'vy_comp': array([-2.13957261e-02, -1.87497248e-03, -2.33943928e-02,  4.21192721e-02,\n",
      "       -6.78101778e-02, -5.57078049e-03,  2.11119279e-02,  5.98616712e-03,\n",
      "       -8.37043952e-03,  1.22890420e-01, -8.36897194e-02,  6.24489672e-02,\n",
      "       -3.77231203e-02,  5.70662469e-02, -1.00629805e-02,  1.65309431e-03,\n",
      "       -8.24813149e-04,  2.79492009e-02, -3.36427568e-03,  1.98478140e-02,\n",
      "       -8.68252071e-04,  3.87787877e-05,  3.71043272e-02, -9.01303999e-03,\n",
      "        2.05573104e-02,  2.34501343e-03,  4.45120670e-02,  1.89086702e-02,\n",
      "        1.76722668e-02, -1.63336694e-02, -4.29162988e-04, -3.97753203e-03,\n",
      "        1.49686681e-03,  1.14188681e-03,  1.21675944e-02,  6.01118430e-03,\n",
      "        1.00613134e-02,  1.01662725e-02,  1.60671417e-02,  2.64794659e-02,\n",
      "       -3.46156582e-03, -8.82830762e-04, -1.63194746e-01, -1.44404739e-01,\n",
      "        8.35080864e-04, -1.21185757e-01,  9.48935747e-03,  7.85207283e-03,\n",
      "        7.99364876e-03, -1.03683233e-01,  6.30165357e-03,  5.27570909e-03,\n",
      "        4.06313827e-03,  3.37018166e-03]),\n",
      " 'x': array([ 12.19999981,   9.19999981,  16.        ,  12.80000019,\n",
      "        13.80000019,  14.39999962,  17.60000038,  17.39999962,\n",
      "        20.20000076,  12.80000019,  13.39999962,  12.60000038,\n",
      "        14.19999981,  26.79999924,  33.20000076,  35.59999847,\n",
      "        41.79999924,  48.59999847,  61.59999847,  65.        ,\n",
      "        75.40000153,  77.19999695,  77.40000153,  79.40000153,\n",
      "        81.80000305,  81.59999847,  82.80000305,  88.80000305,\n",
      "        93.19999695,  91.        ,  92.80000305,  97.40000153,\n",
      "        99.40000153, 101.80000305, 103.80000305, 107.19999695,\n",
      "       109.        , 110.80000305, 112.80000305, 120.59999847,\n",
      "        20.39999962,  81.59999847,  83.        ,  93.80000305,\n",
      "       121.40000153, 125.59999847, 131.19999695, 136.        ,\n",
      "       150.80000305, 177.        , 182.3999939 , 187.3999939 ,\n",
      "       200.6000061 , 207.6000061 ]),\n",
      " 'y': array([  6.0999999 ,  13.30000019,  -5.30000019, -10.89999962,\n",
      "        11.30000019,  10.69999981,   5.69999981,   6.69999981,\n",
      "        -1.70000005, -16.89999962, -17.5       , -20.10000038,\n",
      "        22.89999962,  12.30000019,  13.10000038,   0.69999999,\n",
      "         1.70000005,  15.5       ,  17.89999962,  17.70000076,\n",
      "         6.69999981,   6.69999981,  19.89999962,  19.5       ,\n",
      "         7.5       ,  10.89999962,  20.70000076,   8.69999981,\n",
      "         9.5       ,  22.89999962,  22.10000038,  23.5       ,\n",
      "        23.5       ,  24.10000038,  23.5       ,  24.89999962,\n",
      "        24.89999962,  25.29999924,  25.10000038,  25.5       ,\n",
      "        -1.5       ,  11.30000019, -10.5       , -10.89999962,\n",
      "        16.5       , -12.89999962,  15.89999962,  16.89999962,\n",
      "        18.70000076, -16.5       ,  24.5       ,  25.5       ,\n",
      "        27.70000076,  28.89999962])}\n"
     ]
    }
   ],
   "source": [
    "def read_coordinates_and_velocities_from_pcd(nusc_filepath: str):\n",
    "    points =  RadarPointCloud.from_file(nusc_filepath).points\n",
    "    x = points[0]\n",
    "    y = points[1]\n",
    "    vx_comp = points[8]\n",
    "    vy_comp = points[9]\n",
    "\n",
    "    return {\n",
    "        'file': nusc_filepath,\n",
    "        'x': x,\n",
    "        'y': y,\n",
    "        'vx_comp': vx_comp,\n",
    "        'vy_comp': vy_comp,\n",
    "        'v_comp': (vx_comp ** 2 + vy_comp ** 2) ** 0.5\n",
    "    }\n",
    "\n",
    "\n",
    "result = read_coordinates_and_velocities_from_pcd(test_pcd_file)\n",
    "pprint(result)"
   ],
   "metadata": {
    "collapsed": false,
    "pycharm": {
     "name": "#%%\n"
    }
   }
  },
  {
   "cell_type": "code",
   "execution_count": 41,
   "outputs": [
    {
     "data": {
      "text/plain": "{'token': 'cc8c0bf57f984915a77078b10eb33198',\n 'log_token': '7e25a2c8ea1f41c5b0da1e69ecfa71a2',\n 'nbr_samples': 39,\n 'first_sample_token': 'ca9a282c9e77460f8360f564131a8af5',\n 'last_sample_token': 'ed5fc18c31904f96a8f0dbb99ff069c0',\n 'name': 'scene-0061',\n 'description': 'Parked truck, construction, intersection, turn left, following a van'}"
     },
     "execution_count": 41,
     "metadata": {},
     "output_type": "execute_result"
    }
   ],
   "source": [
    "# help(RadarPointCloud)\n",
    "\n",
    "# nusc.sample_data[0]\n",
    "\n",
    "# nusc.get('sample', '39586f9d59004284a7114a68825e8eec')\n",
    "\n",
    "sc = nusc.scene[0]\n",
    "\n",
    "sc"
   ],
   "metadata": {
    "collapsed": false,
    "pycharm": {
     "name": "#%%\n"
    }
   }
  },
  {
   "cell_type": "code",
   "execution_count": 42,
   "outputs": [],
   "source": [
    "# extract samples\n",
    "\n",
    "\n",
    "def extract_samples_from_scene(scene: dict):\n",
    "    \"\"\"extract all the samples related to the given scene.\"\"\"\n",
    "    first_sample_token = scene['first_sample_token']\n",
    "    last_sample_token = scene['last_sample_token']\n",
    "    samples = list()\n",
    "\n",
    "    fst = nusc.get('sample', first_sample_token)\n",
    "    next_token = fst['next']\n",
    "    while True:\n",
    "        current = nusc.get('sample', next_token)\n",
    "        samples.append(current)\n",
    "        next_token = current['next']\n",
    "        if next_token == last_sample_token:\n",
    "            return samples\n",
    "    # return first_sample_token, last_sample_token, scene\n",
    "\n",
    "samples_from_scene = extract_samples_from_scene(sc)\n",
    "\n",
    "def extract_channel_from_file(channel: str):\n",
    "    filename = nusc.get('sample_data', channel)['filename']\n",
    "    filename = f'{_DATAROOT}/{filename}'\n",
    "    return read_coordinates_and_velocities_from_pcd(filename)\n",
    "\n",
    "def convert_binary_data_to_coordinates_and_velocity(sample: dict):\n",
    "    data = sample['data']\n",
    "    return {\n",
    "     'RADAR_FRONT' : extract_channel_from_file(data['RADAR_FRONT']),\n",
    "     'RADAR_FRONT_LEFT' : extract_channel_from_file(data['RADAR_FRONT_LEFT']),\n",
    "     'RADAR_FRONT_RIGHT' : extract_channel_from_file(data['RADAR_FRONT_RIGHT']),\n",
    "     'RADAR_BACK_LEFT' : extract_channel_from_file(data['RADAR_BACK_LEFT']),\n",
    "     'RADAR_BACK_RIGHT' : extract_channel_from_file(data['RADAR_BACK_RIGHT']),\n",
    "    }\n",
    "\n",
    "scene_in_sample_data = [convert_binary_data_to_coordinates_and_velocity(sc) for sc in samples_from_scene]\n"
   ],
   "metadata": {
    "collapsed": false,
    "pycharm": {
     "name": "#%%\n"
    }
   }
  },
  {
   "cell_type": "code",
   "execution_count": 43,
   "outputs": [
    {
     "data": {
      "text/plain": "[(409.7431520488096, 1176.6769733781416),\n (408.101879146712, 1172.1515777892457),\n (406.7260055966978, 1168.2112865775816),\n (405.40940618082874, 1164.3542269452469),\n (404.27766613575534, 1161.0501064609266),\n (403.1147868052399, 1157.5179992427084),\n (401.882035855894, 1153.723115401486),\n (400.84139513617623, 1150.4041654308548),\n (399.84353161665877, 1147.1735328106026),\n (399.0198373002425, 1144.398545717494),\n (398.16712901294835, 1141.370496193884),\n (397.4476741975414, 1138.4704918742955),\n (396.8835035523236, 1135.6564273770866),\n (396.4443552268204, 1132.6271305081405),\n (396.28709579417813, 1130.0546235114005),\n (396.3721334319953, 1127.5762883014086),\n (396.6816902790987, 1125.2563692026397),\n (397.1853086632334, 1123.0598472868774),\n (397.8606615606245, 1121.0773884177784),\n (398.7597041521511, 1119.1284635254908),\n (399.9076584877769, 1117.2088940698718),\n (401.0653931407355, 1115.6784191807697),\n (402.47435861332616, 1114.1490807505795),\n (404.11369592844784, 1112.6762567308072),\n (405.59378952934526, 1111.5587954693658),\n (407.23526472142686, 1110.4950559603324),\n (408.52944568127737, 1109.7538669797307),\n (409.73572041073385, 1109.1231579309517),\n (410.6650822157686, 1108.6719861046136),\n (411.779300464498, 1108.1419443525465),\n (412.8489179352234, 1107.6401473937494),\n (413.9024439761932, 1107.148159570898),\n (414.9639051557455, 1106.6522960506688),\n (415.9850022275284, 1106.1821496591247),\n (417.02167488599355, 1105.7223623879136),\n (418.1647075938728, 1105.2716555063062),\n (419.5269830911931, 1104.8312849413196)]"
     },
     "execution_count": 43,
     "metadata": {},
     "output_type": "execute_result"
    }
   ],
   "source": [
    "# sc\n",
    "def get_ego_pose_from_timestamp(timestamp: int) -> dict:\n",
    "    return [s for s  in nusc.ego_pose if s['timestamp'] == timestamp][0]\n",
    "\n",
    "ego_poses_from_scene = [get_ego_pose_from_timestamp(s['timestamp']) for s in extract_samples_from_scene(sc)]\n",
    "\n",
    "coordinates_from_scene = [(c[0],c[1]) for c in [s['translation'] for s in ego_poses_from_scene]]\n",
    "\n",
    "coordinates_from_scene"
   ],
   "metadata": {
    "collapsed": false,
    "pycharm": {
     "name": "#%%\n"
    }
   }
  },
  {
   "cell_type": "code",
   "execution_count": 44,
   "outputs": [
    {
     "data": {
      "text/plain": "<Figure size 432x288 with 1 Axes>",
      "image/png": "[encoded data removed]"
     },
     "metadata": {
      "needs_background": "light"
     },
     "output_type": "display_data"
    }
   ],
   "source": [
    "lt = sc['log_token']\n",
    "\n",
    "mt = nusc.get('log', lt)['map_token']\n",
    "\n",
    "mapfile = f\"{_DATAROOT}/{nusc.get('map',mt)['filename']}\"\n",
    "\n",
    "im = plt.imread(mapfile)\n",
    "implot = plt.imshow(im)\n",
    "\n",
    "map_x = np.array([c[0] for c in coordinates_from_scene])\n",
    "map_y = np.array([c[1] for c in coordinates_from_scene])\n",
    "plt.scatter(x=map_x, y=map_y, c=\"r\")\n",
    "\n",
    "plt.show()"
   ],
   "metadata": {
    "collapsed": false,
    "pycharm": {
     "name": "#%%\n"
    }
   }
  },
  {
   "cell_type": "code",
   "execution_count": 59,
   "outputs": [
    {
     "ename": "ValueError",
     "evalue": "operands could not be broadcast together with shapes (37,4,4) (37,3) ",
     "output_type": "error",
     "traceback": [
      "\u001B[0;31m---------------------------------------------------------------------------\u001B[0m",
      "\u001B[0;31mValueError\u001B[0m                                Traceback (most recent call last)",
      "\u001B[0;32m/tmp/ipykernel_60845/2001150838.py\u001B[0m in \u001B[0;36m<module>\u001B[0;34m\u001B[0m\n\u001B[1;32m      6\u001B[0m \u001B[0mtrans\u001B[0m \u001B[0;34m=\u001B[0m \u001B[0;34m[\u001B[0m\u001B[0mtransform_matrix\u001B[0m\u001B[0;34m(\u001B[0m\u001B[0me\u001B[0m\u001B[0;34m[\u001B[0m\u001B[0;34m'translation'\u001B[0m\u001B[0;34m]\u001B[0m\u001B[0;34m,\u001B[0m \u001B[0me\u001B[0m\u001B[0;34m[\u001B[0m\u001B[0;34m'rotation'\u001B[0m\u001B[0;34m]\u001B[0m\u001B[0;34m)\u001B[0m \u001B[0;32mfor\u001B[0m \u001B[0me\u001B[0m \u001B[0;32min\u001B[0m \u001B[0mraw_data\u001B[0m\u001B[0;34m]\u001B[0m\u001B[0;34m\u001B[0m\u001B[0;34m\u001B[0m\u001B[0m\n\u001B[1;32m      7\u001B[0m \u001B[0;34m\u001B[0m\u001B[0m\n\u001B[0;32m----> 8\u001B[0;31m \u001B[0mtrans\u001B[0m \u001B[0;34m*\u001B[0m \u001B[0mnp\u001B[0m\u001B[0;34m.\u001B[0m\u001B[0marray\u001B[0m\u001B[0;34m(\u001B[0m\u001B[0;34m[\u001B[0m\u001B[0;34m[\u001B[0m\u001B[0mc\u001B[0m\u001B[0;34m[\u001B[0m\u001B[0;36m0\u001B[0m\u001B[0;34m]\u001B[0m\u001B[0;34m,\u001B[0m \u001B[0mc\u001B[0m\u001B[0;34m[\u001B[0m\u001B[0;36m1\u001B[0m\u001B[0;34m]\u001B[0m\u001B[0;34m,\u001B[0m \u001B[0;36m0.0\u001B[0m\u001B[0;34m]\u001B[0m \u001B[0;32mfor\u001B[0m \u001B[0mc\u001B[0m \u001B[0;32min\u001B[0m \u001B[0mcoordinates_from_scene\u001B[0m\u001B[0;34m]\u001B[0m\u001B[0;34m)\u001B[0m\u001B[0;34m\u001B[0m\u001B[0;34m\u001B[0m\u001B[0m\n\u001B[0m",
      "\u001B[0;31mValueError\u001B[0m: operands could not be broadcast together with shapes (37,4,4) (37,3) "
     ]
    }
   ],
   "source": [
    "raw_data = [{\n",
    "    'translation': np.array(s['translation']),\n",
    "    'rotation': Quaternion(s['rotation']),\n",
    "    } for s in ego_poses_from_scene]\n",
    "\n",
    "trans = [transform_matrix(e['translation'], e['rotation']) for e in raw_data]\n",
    "\n",
    "trans * np.array([[c[0], c[1], 0.0] for c in coordinates_from_scene])"
   ],
   "metadata": {
    "collapsed": false,
    "pycharm": {
     "name": "#%%\n"
    }
   }
  }
 ],
 "metadata": {
  "kernelspec": {
   "display_name": "Python 3",
   "language": "python",
   "name": "python3"
  },
  "language_info": {
   "codemirror_mode": {
    "name": "ipython",
    "version": 2
   },
   "file_extension": ".py",
   "mimetype": "text/x-python",
   "name": "python",
   "nbconvert_exporter": "python",
   "pygments_lexer": "ipython2",
   "version": "2.7.6"
  }
 },
 "nbformat": 4,
 "nbformat_minor": 0
}