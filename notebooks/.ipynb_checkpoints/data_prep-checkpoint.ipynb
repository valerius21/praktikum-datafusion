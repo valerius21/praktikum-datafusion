{
 "cells": [
  {
   "cell_type": "code",
   "execution_count": 4,
   "metadata": {
    "tags": []
   },
   "outputs": [],
   "source": [
    "# imports\n",
    "\n",
    "import matplotlib.pyplot as plt\n",
    "import numpy as np\n",
    "from nuscenes.nuscenes import NuScenes\n",
    "from nuscenes.utils.data_classes import RadarPointCloud\n",
    "from nuscenes.utils.geometry_utils import transform_matrix\n",
    "from pyquaternion import Quaternion\n"
   ]
  },
  {
   "cell_type": "code",
   "execution_count": 5,
   "metadata": {
    "collapsed": false,
    "jupyter": {
     "outputs_hidden": false
    },
    "pycharm": {
     "name": "#%%\n"
    }
   },
   "outputs": [
    {
     "name": "stdout",
     "output_type": "stream",
     "text": [
      "======\n",
      "Loading NuScenes tables for version v1.0-mini...\n",
      "23 category,\n",
      "8 attribute,\n",
      "4 visibility,\n",
      "911 instance,\n",
      "12 sensor,\n",
      "120 calibrated_sensor,\n",
      "31206 ego_pose,\n",
      "8 log,\n",
      "10 scene,\n",
      "404 sample,\n",
      "31206 sample_data,\n",
      "18538 sample_annotation,\n",
      "4 map,\n",
      "Done loading in 0.575 seconds.\n",
      "======\n",
      "Reverse indexing ...\n",
      "Done reverse indexing in 0.1 seconds.\n",
      "======\n"
     ]
    }
   ],
   "source": [
    "\n",
    "# basic config and variables\n",
    "_VERSION = 'v1.0-mini'\n",
    "_DATAROOT = '/home/jovyan/praktikum-datafusion/data'\n",
    "\n",
    "nusc = NuScenes(version=_VERSION, dataroot=_DATAROOT, verbose=True)"
   ]
  },
  {
   "cell_type": "code",
   "execution_count": 6,
   "metadata": {
    "collapsed": false,
    "jupyter": {
     "outputs_hidden": false
    },
    "pycharm": {
     "name": "#%%\n"
    }
   },
   "outputs": [],
   "source": [
    "def get_pcd_data(nusc_filepath: str):\n",
    "    radar_point_cloud = RadarPointCloud.from_file(nusc_filepath)\n",
    "    points =  radar_point_cloud.points\n",
    "    x = points[0]\n",
    "    y = points[1]\n",
    "    vx_comp = points[8]\n",
    "    vy_comp = points[9]\n",
    "\n",
    "    return {\n",
    "        'file': nusc_filepath,\n",
    "        'x': x,\n",
    "        'y': y,\n",
    "        'vx_comp': vx_comp,\n",
    "        'vy_comp': vy_comp,\n",
    "        'v_comp': (vx_comp ** 2 + vy_comp ** 2) ** 0.5,\n",
    "        'radar_point_cloud': radar_point_cloud\n",
    "    }\n",
    "\n",
    "def extract_channel_from_file(channel: str):\n",
    "    filename = nusc.get('sample_data', channel)['filename']\n",
    "    filename = f'{_DATAROOT}/{filename}'\n",
    "    return get_pcd_data(filename)\n",
    "\n",
    "\n",
    "def extract_samples_from_scene(scene: dict):\n",
    "    \"\"\"extract all the samples related to the given scene.\"\"\"\n",
    "    first_sample_token = scene['first_sample_token']\n",
    "    last_sample_token = scene['last_sample_token']\n",
    "    samples = list()\n",
    "\n",
    "    fst = nusc.get('sample', first_sample_token)\n",
    "    next_token = fst['next']\n",
    "    while True:\n",
    "        current = nusc.get('sample', next_token)\n",
    "        samples.append(current)\n",
    "        next_token = current['next']\n",
    "        if next_token == last_sample_token:\n",
    "            return samples\n",
    "\n",
    "\n",
    "def convert_binary_data_to_coordinates_and_velocity(sample: dict):\n",
    "    data = sample['data']\n",
    "    return {\n",
    "     'RADAR_FRONT' : extract_channel_from_file(data['RADAR_FRONT']),\n",
    "     'RADAR_FRONT_LEFT' : extract_channel_from_file(data['RADAR_FRONT_LEFT']),\n",
    "     'RADAR_FRONT_RIGHT' : extract_channel_from_file(data['RADAR_FRONT_RIGHT']),\n",
    "     'RADAR_BACK_LEFT' : extract_channel_from_file(data['RADAR_BACK_LEFT']),\n",
    "     'RADAR_BACK_RIGHT' : extract_channel_from_file(data['RADAR_BACK_RIGHT']),\n",
    "     'data': data\n",
    "    }\n",
    "\n",
    "sc = nusc.scene[0]\n",
    "samples_from_scene = extract_samples_from_scene(sc)\n",
    "scene_in_sample_data = [convert_binary_data_to_coordinates_and_velocity(sc) for sc in samples_from_scene]\n"
   ]
  },
  {
   "cell_type": "code",
   "execution_count": 20,
   "metadata": {
    "collapsed": false,
    "jupyter": {
     "outputs_hidden": false
    },
    "pycharm": {
     "name": "#%%\n"
    }
   },
   "outputs": [],
   "source": [
    "def new_method():\n",
    "    \"\"\"makes a biggo matrix containing all infos about 2 a).\"\"\"\n",
    "    channels = [\n",
    "        'RADAR_FRONT',\n",
    "        'RADAR_FRONT_LEFT',\n",
    "        'RADAR_FRONT_RIGHT',\n",
    "        'RADAR_BACK_LEFT',\n",
    "        'RADAR_BACK_RIGHT',\n",
    "    ]\n",
    "    samples = scene_in_sample_data\n",
    "    scene_points = list()\n",
    "    for sample in samples:\n",
    "        x, y, z, vx_comp, vy_comp, pointclouds = list(), list(), list() ,list() ,list(), list()\n",
    "        ego_pose_coords = []\n",
    "        for channel in channels:\n",
    "            pc = sample[channel]['radar_point_cloud']\n",
    "            radar_token = sample['data'][channel]\n",
    "            current_radar = nusc.get('sample_data', radar_token)\n",
    "            ego_pose = nusc.get('ego_pose', current_radar['ego_pose_token'])\n",
    "            calibrated_sensor = nusc.get('calibrated_sensor', current_radar['calibrated_sensor_token'])\n",
    "            sensor_to_car = transform_matrix(calibrated_sensor['translation'], Quaternion(calibrated_sensor['rotation'], inverse=False))\n",
    "            car_to_world = transform_matrix(ego_pose['translation'], Quaternion(ego_pose['rotation'], inverse=False))\n",
    "\n",
    "            sensor_to_world = car_to_world @ sensor_to_car\n",
    "\n",
    "            pc.transform(sensor_to_world)\n",
    "\n",
    "            pointclouds.append(pc)\n",
    "            \n",
    "            ego_pose_coords = ego_pose['translation']\n",
    "\n",
    "            # combine radar\n",
    "            \n",
    "            for i in range(pc.points.shape[1]):\n",
    "                x.append(pc.points[0][i])\n",
    "                y.append(pc.points[1][i])\n",
    "                z.append(pc.points[2][i]) # redundant?\n",
    "                vx_comp.append(pc.points[7][i])\n",
    "                vy_comp.append(pc.points[8][i])\n",
    "        scene_points.append([\n",
    "            np.asarray(x),\n",
    "            np.asarray(y),\n",
    "            np.asarray(z),\n",
    "            np.asarray(vx_comp),\n",
    "            np.asarray(vy_comp),\n",
    "            np.asarray(pointclouds),\n",
    "            np.asarray(ego_pose_coords)\n",
    "        ])\n",
    "\n",
    "    return np.asarray(scene_points)\n",
    "\n",
    "\n",
    "result = new_method()"
   ]
  },
  {
   "cell_type": "code",
   "execution_count": 21,
   "metadata": {
    "collapsed": false,
    "jupyter": {
     "outputs_hidden": false
    },
    "pycharm": {
     "name": "#%%\n"
    }
   },
   "outputs": [
    {
     "data": {
      "image/png": "[encoded data removed]",
      "text/plain": [
       "<Figure size 432x288 with 1 Axes>"
      ]
     },
     "metadata": {
      "needs_background": "light"
     },
     "output_type": "display_data"
    }
   ],
   "source": [
    "ys = list()\n",
    "xs = list()\n",
    "\n",
    "for row in result:\n",
    "    x, y = row[0], row[1]\n",
    "    ego = row[-1]\n",
    "    xs += list(x)\n",
    "    ys += list(y)\n",
    "    break\n",
    "\n",
    "# TODO: Ego pose in rot plotten\n",
    "# TODO: marker size\n",
    "# TODO: ausschnitt\n",
    "# TODO: fahrzeug plotten\n",
    "\n",
    "plt.scatter(x=xs, y=ys)\n",
    "plt.show()"
   ]
  },
  {
   "cell_type": "code",
   "execution_count": null,
   "metadata": {},
   "outputs": [],
   "source": []
  }
 ],
 "metadata": {
  "kernelspec": {
   "display_name": "Python 3",
   "language": "python",
   "name": "python3"
  },
  "language_info": {
   "codemirror_mode": {
    "name": "ipython",
    "version": 3
   },
   "file_extension": ".py",
   "mimetype": "text/x-python",
   "name": "python",
   "nbconvert_exporter": "python",
   "pygments_lexer": "ipython3",
   "version": "3.8.8"
  }
 },
 "nbformat": 4,
 "nbformat_minor": 4
}
